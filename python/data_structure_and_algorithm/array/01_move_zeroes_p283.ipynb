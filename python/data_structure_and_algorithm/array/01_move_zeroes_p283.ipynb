{
 "cells": [
  {
   "cell_type": "markdown",
   "metadata": {},
   "source": [
    "## 283. Move Zeroes\n",
    "Given an integer array nums, move all 0's to the end of it while maintaining the relative order of the non-zero elements.\n",
    "\n",
    "**Note** that you must do this in-place without making a copy of the array.\n",
    "\n",
    "- Example 1:\n",
    "    - Input: nums = [0,1,0,3,12]\n",
    "    - Output: [1,3,12,0,0]\n",
    "\n",
    "- Example 2:\n",
    "    - Input: nums = [0]\n",
    "    - Output: [0]\n"
   ]
  },
  {
   "cell_type": "code",
   "execution_count": 5,
   "metadata": {},
   "outputs": [],
   "source": [
    "from datetime import datetime\n",
    "import time"
   ]
  },
  {
   "cell_type": "markdown",
   "metadata": {},
   "source": [
    "### Solution 1"
   ]
  },
  {
   "cell_type": "code",
   "execution_count": 2,
   "metadata": {},
   "outputs": [],
   "source": [
    "nums = [0,1,0,3,12]"
   ]
  },
  {
   "cell_type": "code",
   "execution_count": 3,
   "metadata": {},
   "outputs": [
    {
     "data": {
      "text/plain": [
       "5"
      ]
     },
     "execution_count": 3,
     "metadata": {},
     "output_type": "execute_result"
    }
   ],
   "source": [
    "len(nums)"
   ]
  },
  {
   "cell_type": "code",
   "execution_count": 4,
   "metadata": {},
   "outputs": [
    {
     "data": {
      "text/plain": [
       "[1, 0, 3, 12]"
      ]
     },
     "execution_count": 4,
     "metadata": {},
     "output_type": "execute_result"
    }
   ],
   "source": [
    "#removes 0\n",
    "nums.remove(0)\n",
    "nums"
   ]
  },
  {
   "cell_type": "code",
   "execution_count": 5,
   "metadata": {},
   "outputs": [
    {
     "data": {
      "text/plain": [
       "[1, 0, 3, 12, 0]"
      ]
     },
     "execution_count": 5,
     "metadata": {},
     "output_type": "execute_result"
    }
   ],
   "source": [
    "#insert 0 in certain position)\n",
    "nums.insert(len(nums),0)\n",
    "nums"
   ]
  },
  {
   "cell_type": "code",
   "execution_count": 6,
   "metadata": {},
   "outputs": [
    {
     "name": "stdout",
     "output_type": "stream",
     "text": [
      "0\n",
      "4\n",
      "0\n",
      "4\n",
      "12\n",
      "0\n",
      "4\n",
      "0\n",
      "4\n",
      "\n",
      "Final Result\n"
     ]
    },
    {
     "data": {
      "text/plain": [
       "[1, 3, 12, 0, 0]"
      ]
     },
     "execution_count": 6,
     "metadata": {},
     "output_type": "execute_result"
    }
   ],
   "source": [
    "nums = [0,1,0,3,12]\n",
    "for i in nums:   #O(n)\n",
    "    print(i)\n",
    "    if i==0:\n",
    "        #remove a 0\n",
    "        nums.remove(0)\n",
    "        print(len(nums))\n",
    "\n",
    "        #insert 0 into last position\n",
    "        nums.insert(len(nums),0)\n",
    "\n",
    "print()\n",
    "print('Final Result')\n",
    "nums"
   ]
  },
  {
   "cell_type": "code",
   "execution_count": 7,
   "metadata": {},
   "outputs": [
    {
     "name": "stdout",
     "output_type": "stream",
     "text": [
      "0\n",
      "0\n",
      "\n",
      "Final Result\n"
     ]
    },
    {
     "data": {
      "text/plain": [
       "[0]"
      ]
     },
     "execution_count": 7,
     "metadata": {},
     "output_type": "execute_result"
    }
   ],
   "source": [
    "nums = [0]\n",
    "for i in nums:   #O(n)\n",
    "    print(i)\n",
    "    if i==0:\n",
    "        #remove a 0\n",
    "        nums.remove(0)\n",
    "        print(len(nums))\n",
    "\n",
    "        #insert 0 into last position\n",
    "        nums.insert(len(nums),0)\n",
    "\n",
    "print()\n",
    "print('Final Result')\n",
    "nums"
   ]
  },
  {
   "cell_type": "code",
   "execution_count": 8,
   "metadata": {},
   "outputs": [],
   "source": [
    "class Solution(object):\n",
    "    def moveZeroes(self, nums):\n",
    "        \"\"\"\n",
    "        :type nums: List[int]\n",
    "        :rtype: None Do not return anything, modify nums in-place instead.\n",
    "        \"\"\"\n",
    "        \n",
    "        for i in nums:   #O(n)\n",
    "            if i==0:\n",
    "                #remove a 0\n",
    "                nums.remove(0)\n",
    "\n",
    "                #insert 0 into last position\n",
    "                nums.insert(len(nums),0)\n"
   ]
  },
  {
   "cell_type": "code",
   "execution_count": 62,
   "metadata": {},
   "outputs": [
    {
     "name": "stdout",
     "output_type": "stream",
     "text": [
      "[1, 3, 12, 0, 0]\n"
     ]
    }
   ],
   "source": [
    "nums = [0,1,0,3,12]\n",
    "# nums = [0]\n",
    "client=Solution()\n",
    "client.moveZeroes(nums)\n",
    "print(nums)"
   ]
  },
  {
   "cell_type": "code",
   "execution_count": 74,
   "metadata": {},
   "outputs": [
    {
     "name": "stdout",
     "output_type": "stream",
     "text": [
      "[1, 3, 12, 0, 0]\n",
      "Time gap: 237\n"
     ]
    }
   ],
   "source": [
    "\n",
    "tstart = datetime.now()\n",
    "\n",
    "nums = [0,1,0,3,12]\n",
    "# nums = [0]\n",
    "client=Solution()\n",
    "client.moveZeroes(nums)\n",
    "print(nums)\n",
    "\n",
    "\n",
    "# code to speed test\n",
    "tend = datetime.now()\n",
    "print(f\"Time gap: {(tend-tstart).microseconds}\")\n",
    "\n"
   ]
  },
  {
   "cell_type": "code",
   "execution_count": 126,
   "metadata": {},
   "outputs": [
    {
     "name": "stdout",
     "output_type": "stream",
     "text": [
      "Time gap avg: 48.47 micro seconds\n"
     ]
    }
   ],
   "source": [
    "# code to speed test\n",
    "total_test=100\n",
    "test_speeds=[]\n",
    "\n",
    "for i in range(total_test):\n",
    "    tstart = datetime.now()\n",
    "\n",
    "    nums = [0,1,0,3,12]\n",
    "    # nums = [0]\n",
    "    client=Solution()\n",
    "    client.moveZeroes(nums)\n",
    "\n",
    "    tend = datetime.now()\n",
    "    test_speeds.append((tend-tstart).microseconds)\n",
    "\n",
    "    time.sleep(0.01)\n",
    "\n",
    "# print(f\"Time gaps: {test_speeds}\")\n",
    "print(f\"Time gap avg: {sum(test_speeds)/len(test_speeds)} micro seconds\")"
   ]
  },
  {
   "cell_type": "markdown",
   "metadata": {},
   "source": [
    "#### Complexity Analysis\n",
    "- **Time complexity:** O(k.n), worst case O($n^{2}$) if all elements are 0\n",
    "- **Space Complexity:** O(1)\n",
    "\n",
    "<div>\n",
    "<img src=\"../00_images/p283_01.png\" width=\"700\">   \n",
    "</div>\n",
    "\n",
    "<div>\n",
    "<img src=\"../00_images/p283_02.png\" width=\"700\">   \n",
    "</div>\n",
    "\n",
    "<div>\n",
    "<img src=\"../00_images/p283_03.png\" width=\"700\">   \n",
    "</div>"
   ]
  },
  {
   "cell_type": "markdown",
   "metadata": {},
   "source": [
    "### Solution 2"
   ]
  },
  {
   "cell_type": "code",
   "execution_count": 130,
   "metadata": {},
   "outputs": [],
   "source": [
    "class Solution_v2(object):\n",
    "    def moveZeroes(self, nums):\n",
    "        \"\"\"\n",
    "        :type nums: List[int]\n",
    "        :rtype: None Do not return anything, modify nums in-place instead.\n",
    "        \"\"\"\n",
    "        nums[:] = [i for i in nums if i != 0] + [0 for j in range(sum(1 for i in nums if i == 0))]"
   ]
  },
  {
   "cell_type": "code",
   "execution_count": 132,
   "metadata": {},
   "outputs": [
    {
     "name": "stdout",
     "output_type": "stream",
     "text": [
      "[1, 3, 12, 0, 0]\n"
     ]
    }
   ],
   "source": [
    "nums = [0,1,0,3,12]\n",
    "# nums = [0]\n",
    "client=Solution_v2()\n",
    "client.moveZeroes(nums)\n",
    "print(nums)"
   ]
  },
  {
   "cell_type": "code",
   "execution_count": 134,
   "metadata": {},
   "outputs": [
    {
     "name": "stdout",
     "output_type": "stream",
     "text": [
      "[1, 3, 12, 0, 0]\n",
      "Time gap: 247\n"
     ]
    }
   ],
   "source": [
    "tstart = datetime.now()\n",
    "\n",
    "nums = [0,1,0,3,12]\n",
    "# nums = [0]\n",
    "client=Solution_v2()\n",
    "client.moveZeroes(nums)\n",
    "print(nums)\n",
    "\n",
    "\n",
    "# code to speed test\n",
    "tend = datetime.now()\n",
    "print(f\"Time gap: {(tend-tstart).microseconds}\")"
   ]
  },
  {
   "cell_type": "code",
   "execution_count": 142,
   "metadata": {},
   "outputs": [
    {
     "name": "stdout",
     "output_type": "stream",
     "text": [
      "Time gap avg: 68.33 micro seconds\n"
     ]
    }
   ],
   "source": [
    "# code to speed test\n",
    "total_test=100\n",
    "test_speeds=[]\n",
    "\n",
    "for i in range(total_test):\n",
    "    tstart = datetime.now()\n",
    "\n",
    "    nums = [0,1,0,3,12]\n",
    "    # nums = [0]\n",
    "    client=Solution_v2()\n",
    "    client.moveZeroes(nums)\n",
    "\n",
    "    tend = datetime.now()\n",
    "    test_speeds.append((tend-tstart).microseconds)\n",
    "\n",
    "    time.sleep(0.01)\n",
    "\n",
    "# print(f\"Time gaps: {test_speeds}\")\n",
    "print(f\"Time gap avg: {sum(test_speeds)/len(test_speeds)} micro seconds\")"
   ]
  },
  {
   "cell_type": "markdown",
   "metadata": {},
   "source": [
    "#### Complexity Analysis\n",
    "- **Time complexity:** O(n)\n",
    "- **Space Complexity:** O(n)\n",
    "\n",
    "<div>\n",
    "<img src=\"../00_images/p283_04.png\" width=\"700\">   \n",
    "</div>\n",
    "\n",
    "<div>\n",
    "<img src=\"../00_images/p283_05.png\" width=\"700\">   \n",
    "</div>\n",
    "\n",
    "<div>\n",
    "<img src=\"../00_images/p283_06.png\" width=\"700\">   \n",
    "</div>"
   ]
  },
  {
   "cell_type": "markdown",
   "metadata": {},
   "source": [
    "### Solution 3"
   ]
  },
  {
   "cell_type": "code",
   "execution_count": null,
   "metadata": {},
   "outputs": [],
   "source": [
    "class Solution_v3(object):\n",
    "    def moveZeroes(self, nums):\n",
    "        \"\"\"\n",
    "        :type nums: List[int]\n",
    "        :rtype: None Do not return anything, modify nums in-place instead.\n",
    "        \"\"\"\n",
    "        zero_count = 0\n",
    "        for i in range(len(nums)):    \n",
    "            if nums[i] != 0:\n",
    "                nums[i - zero_count] = nums[i]            #update the position of non zero numbers\n",
    "            else:\n",
    "                zero_count += 1\n",
    "\n",
    "        for i in range(len(nums) - zero_count, len(nums)):   #update the list with zeros\n",
    "            nums[i] = 0"
   ]
  },
  {
   "cell_type": "code",
   "execution_count": 144,
   "metadata": {},
   "outputs": [
    {
     "name": "stdout",
     "output_type": "stream",
     "text": [
      "[1, 3, 12, 0, 0]\n",
      "Time gap: 219\n"
     ]
    }
   ],
   "source": [
    "tstart = datetime.now()\n",
    "\n",
    "nums = [0,1,0,3,12]\n",
    "# nums = [0]\n",
    "client=Solution_v3()\n",
    "client.moveZeroes(nums)\n",
    "print(nums)\n",
    "\n",
    "\n",
    "# code to speed test\n",
    "tend = datetime.now()\n",
    "print(f\"Time gap: {(tend-tstart).microseconds}\")"
   ]
  },
  {
   "cell_type": "code",
   "execution_count": 148,
   "metadata": {},
   "outputs": [
    {
     "name": "stdout",
     "output_type": "stream",
     "text": [
      "Time gap avg: 53.94 micro seconds\n"
     ]
    }
   ],
   "source": [
    "# code to speed test\n",
    "total_test=100\n",
    "test_speeds=[]\n",
    "\n",
    "for i in range(total_test):\n",
    "    tstart = datetime.now()\n",
    "\n",
    "    nums = [0,1,0,3,12]\n",
    "    # nums = [0]\n",
    "    client=Solution_v3()\n",
    "    client.moveZeroes(nums)\n",
    "\n",
    "    tend = datetime.now()\n",
    "    test_speeds.append((tend-tstart).microseconds)\n",
    "\n",
    "    time.sleep(0.01)\n",
    "\n",
    "# print(f\"Time gaps: {test_speeds}\")\n",
    "print(f\"Time gap avg: {sum(test_speeds)/len(test_speeds)} micro seconds\")"
   ]
  },
  {
   "cell_type": "markdown",
   "metadata": {},
   "source": [
    "#### Code Explanation\n",
    "<div>\n",
    "<img src=\"../00_images/p283_08.png\" width=\"700\">   \n",
    "</div>\n",
    "\n",
    "\n",
    "<div>\n",
    "<img src=\"../00_images/p283_09.png\" width=\"700\">   \n",
    "</div>\n",
    "\n",
    "\n",
    "<div>\n",
    "<img src=\"../00_images/p283_10.png\" width=\"700\">   \n",
    "</div>\n"
   ]
  },
  {
   "cell_type": "markdown",
   "metadata": {},
   "source": [
    "#### Complexity Analysis\n",
    "- **Time complexity:** O(n)\n",
    "- **Space Complexity:** O(1)\n",
    "\n",
    "<div>\n",
    "<img src=\"../00_images/p283_07.png\" width=\"700\">   \n",
    "</div>\n"
   ]
  },
  {
   "cell_type": "markdown",
   "metadata": {},
   "source": [
    "### Solution 4 (Two pointer technique)"
   ]
  },
  {
   "cell_type": "code",
   "execution_count": null,
   "metadata": {},
   "outputs": [],
   "source": [
    "class Solution_v4(object):\n",
    "    def moveZeroes(self, nums):\n",
    "        \"\"\"\n",
    "        :type nums: List[int]\n",
    "        :rtype: None Do not return anything, modify nums in-place instead.\n",
    "        \"\"\"\n",
    "        slow = 0\n",
    "        for fast in range(len(nums)):\n",
    "            if nums[fast] != 0 and nums[slow] == 0:\n",
    "                nums[slow], nums[fast] = nums[fast], nums[slow]\n",
    "\n",
    "            # wait while we find a non-zero element to swap with you\n",
    "            if nums[slow] != 0:\n",
    "                slow += 1"
   ]
  },
  {
   "cell_type": "markdown",
   "metadata": {},
   "source": [
    "This code moves all `0`s to the end of the list `nums` while maintaining the relative order of non-zero elements. It uses the **two-pointer technique**, where:\n",
    "- `slow` tracks the position of the next `0` to be swapped.\n",
    "- `fast` iterates through the list.\n"
   ]
  },
  {
   "cell_type": "code",
   "execution_count": 7,
   "metadata": {},
   "outputs": [
    {
     "name": "stdout",
     "output_type": "stream",
     "text": [
      "[1, 3, 12, 0, 0]\n",
      "Time gap: 263\n"
     ]
    }
   ],
   "source": [
    "tstart = datetime.now()\n",
    "\n",
    "nums = [0,1,0,3,12]\n",
    "# nums = [0]\n",
    "client=Solution_v4()\n",
    "client.moveZeroes(nums)\n",
    "print(nums)\n",
    "\n",
    "\n",
    "# code to speed test\n",
    "tend = datetime.now()\n",
    "print(f\"Time gap: {(tend-tstart).microseconds}\")"
   ]
  },
  {
   "cell_type": "code",
   "execution_count": 8,
   "metadata": {},
   "outputs": [
    {
     "name": "stdout",
     "output_type": "stream",
     "text": [
      "Time gap avg: 53.38 micro seconds\n"
     ]
    }
   ],
   "source": [
    "# code to speed test\n",
    "total_test=100\n",
    "test_speeds=[]\n",
    "\n",
    "for i in range(total_test):\n",
    "    tstart = datetime.now()\n",
    "\n",
    "    nums = [0,1,0,3,12]\n",
    "    # nums = [0]\n",
    "    client=Solution_v4()\n",
    "    client.moveZeroes(nums)\n",
    "\n",
    "    tend = datetime.now()\n",
    "    test_speeds.append((tend-tstart).microseconds)\n",
    "\n",
    "    time.sleep(0.01)\n",
    "\n",
    "# print(f\"Time gaps: {test_speeds}\")\n",
    "print(f\"Time gap avg: {sum(test_speeds)/len(test_speeds)} micro seconds\")"
   ]
  },
  {
   "cell_type": "markdown",
   "metadata": {},
   "source": [
    "#### Code Explanation\n",
    "<div>\n",
    "<img src=\"../00_images/p283_11.png\" width=\"700\">   \n",
    "</div>\n",
    "\n",
    "\n",
    "<div>\n",
    "<img src=\"../00_images/p283_12.png\" width=\"700\">   \n",
    "</div>\n"
   ]
  },
  {
   "cell_type": "markdown",
   "metadata": {},
   "source": [
    "#### Complexity Analysis\n",
    "- **Time complexity:** O(n)\n",
    "- **Space Complexity:** O(1)\n",
    "\n",
    "<div>\n",
    "<img src=\"../00_images/p283_13.png\" width=\"700\">   \n",
    "</div>\n"
   ]
  },
  {
   "cell_type": "markdown",
   "metadata": {},
   "source": [
    "### Solution 5 (Two pointer technique v2)"
   ]
  },
  {
   "cell_type": "code",
   "execution_count": null,
   "metadata": {},
   "outputs": [],
   "source": [
    "class Solution_v5(object):\n",
    "    def moveZeroes(self, nums):\n",
    "        \"\"\"\n",
    "        :type nums: List[int]\n",
    "        :rtype: None Do not return anything, modify nums in-place instead.\n",
    "        \"\"\"\n",
    "        # Step 1: Initialize the last non-zero index\n",
    "        last_non_zero_found_at = 0\n",
    "\n",
    "        # Step 2: Traverse the array\n",
    "        for i in range(len(nums)):\n",
    "            if nums[i] != 0:\n",
    "                # Step 3: Swap the elements\n",
    "                nums[last_non_zero_found_at], nums[i] = nums[i], nums[last_non_zero_found_at]\n",
    "                \n",
    "                # Step 4: Move the non-zero index forward\n",
    "                last_non_zero_found_at += 1\n"
   ]
  },
  {
   "cell_type": "code",
   "execution_count": 10,
   "metadata": {},
   "outputs": [
    {
     "name": "stdout",
     "output_type": "stream",
     "text": [
      "[1, 3, 12, 0, 0]\n",
      "Time gap: 200\n"
     ]
    }
   ],
   "source": [
    "tstart = datetime.now()\n",
    "\n",
    "nums = [0,1,0,3,12]\n",
    "# nums = [0]\n",
    "client=Solution_v5()\n",
    "client.moveZeroes(nums)\n",
    "print(nums)\n",
    "\n",
    "\n",
    "# code to speed test\n",
    "tend = datetime.now()\n",
    "print(f\"Time gap: {(tend-tstart).microseconds}\")"
   ]
  },
  {
   "cell_type": "code",
   "execution_count": 11,
   "metadata": {},
   "outputs": [
    {
     "name": "stdout",
     "output_type": "stream",
     "text": [
      "Time gap avg: 49.08 micro seconds\n"
     ]
    }
   ],
   "source": [
    "# code to speed test\n",
    "total_test=100\n",
    "test_speeds=[]\n",
    "\n",
    "for i in range(total_test):\n",
    "    tstart = datetime.now()\n",
    "\n",
    "    nums = [0,1,0,3,12]\n",
    "    # nums = [0]\n",
    "    client=Solution_v5()\n",
    "    client.moveZeroes(nums)\n",
    "\n",
    "    tend = datetime.now()\n",
    "    test_speeds.append((tend-tstart).microseconds)\n",
    "\n",
    "    time.sleep(0.01)\n",
    "\n",
    "# print(f\"Time gaps: {test_speeds}\")\n",
    "print(f\"Time gap avg: {sum(test_speeds)/len(test_speeds)} micro seconds\")"
   ]
  },
  {
   "cell_type": "markdown",
   "metadata": {},
   "source": [
    "#### Code Explanation\n",
    "<div>\n",
    "<img src=\"../00_images/p283_14.png\" width=\"700\">   \n",
    "</div>\n",
    "\n",
    "\n",
    "<div>\n",
    "<img src=\"../00_images/p283_15.png\" width=\"700\">   \n",
    "</div>\n",
    "\n",
    "<div>\n",
    "<img src=\"../00_images/p283_16.png\" width=\"700\">   \n",
    "</div>\n",
    "\n",
    "<div>\n",
    "<img src=\"../00_images/p283_18.png\" width=\"700\">   \n",
    "</div>\n"
   ]
  },
  {
   "cell_type": "markdown",
   "metadata": {},
   "source": [
    "#### Complexity Analysis\n",
    "- **Time complexity:** O(n)\n",
    "- **Space Complexity:** O(1)\n",
    "\n",
    "<div>\n",
    "<img src=\"../00_images/p283_17.png\" width=\"700\">   \n",
    "</div>\n"
   ]
  },
  {
   "cell_type": "markdown",
   "metadata": {},
   "source": []
  }
 ],
 "metadata": {
  "kernelspec": {
   "display_name": "env_problem_solving",
   "language": "python",
   "name": "python3"
  },
  "language_info": {
   "codemirror_mode": {
    "name": "ipython",
    "version": 3
   },
   "file_extension": ".py",
   "mimetype": "text/x-python",
   "name": "python",
   "nbconvert_exporter": "python",
   "pygments_lexer": "ipython3",
   "version": "3.9.20"
  }
 },
 "nbformat": 4,
 "nbformat_minor": 2
}
