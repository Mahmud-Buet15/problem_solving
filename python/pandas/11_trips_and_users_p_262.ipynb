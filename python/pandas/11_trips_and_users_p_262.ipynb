{
 "cells": [
  {
   "cell_type": "markdown",
   "metadata": {},
   "source": [
    "problem link: https://leetcode.com/problems/trips-and-users/description/?lang=pythondata"
   ]
  },
  {
   "cell_type": "code",
   "execution_count": 112,
   "metadata": {},
   "outputs": [],
   "source": [
    "import pandas as pd"
   ]
  },
  {
   "cell_type": "markdown",
   "metadata": {},
   "source": [
    "### Generating test cases"
   ]
  },
  {
   "cell_type": "code",
   "execution_count": 139,
   "metadata": {},
   "outputs": [
    {
     "data": {
      "text/html": [
       "<div>\n",
       "<style scoped>\n",
       "    .dataframe tbody tr th:only-of-type {\n",
       "        vertical-align: middle;\n",
       "    }\n",
       "\n",
       "    .dataframe tbody tr th {\n",
       "        vertical-align: top;\n",
       "    }\n",
       "\n",
       "    .dataframe thead th {\n",
       "        text-align: right;\n",
       "    }\n",
       "</style>\n",
       "<table border=\"1\" class=\"dataframe\">\n",
       "  <thead>\n",
       "    <tr style=\"text-align: right;\">\n",
       "      <th></th>\n",
       "      <th>id</th>\n",
       "      <th>client_id</th>\n",
       "      <th>driver_id</th>\n",
       "      <th>city_id</th>\n",
       "      <th>status</th>\n",
       "      <th>request_at</th>\n",
       "    </tr>\n",
       "  </thead>\n",
       "  <tbody>\n",
       "    <tr>\n",
       "      <th>0</th>\n",
       "      <td>1111</td>\n",
       "      <td>1</td>\n",
       "      <td>10</td>\n",
       "      <td>1</td>\n",
       "      <td>completed</td>\n",
       "      <td>2013-10-01</td>\n",
       "    </tr>\n",
       "  </tbody>\n",
       "</table>\n",
       "</div>"
      ],
      "text/plain": [
       "     id  client_id  driver_id  city_id     status  request_at\n",
       "0  1111          1         10        1  completed  2013-10-01"
      ]
     },
     "execution_count": 139,
     "metadata": {},
     "output_type": "execute_result"
    }
   ],
   "source": [
    "# trips=pd.read_csv('./test_data/p262_trips.csv',delimiter='|')\n",
    "# trips=pd.read_csv('./test_data/p262_trips_v2.csv',delimiter='|')\n",
    "trips=pd.read_csv('./test_data/p262_trips_v3.csv',delimiter='|')\n",
    "trips"
   ]
  },
  {
   "cell_type": "code",
   "execution_count": 140,
   "metadata": {},
   "outputs": [
    {
     "data": {
      "text/plain": [
       "id             int64\n",
       "client_id      int64\n",
       "driver_id      int64\n",
       "city_id        int64\n",
       "status        object\n",
       "request_at    object\n",
       "dtype: object"
      ]
     },
     "execution_count": 140,
     "metadata": {},
     "output_type": "execute_result"
    }
   ],
   "source": [
    "trips.dtypes"
   ]
  },
  {
   "cell_type": "code",
   "execution_count": 141,
   "metadata": {},
   "outputs": [
    {
     "data": {
      "text/plain": [
       "Index(['id', 'client_id', 'driver_id', 'city_id', 'status', 'request_at'], dtype='object')"
      ]
     },
     "execution_count": 141,
     "metadata": {},
     "output_type": "execute_result"
    }
   ],
   "source": [
    "trips.columns"
   ]
  },
  {
   "cell_type": "code",
   "execution_count": 142,
   "metadata": {},
   "outputs": [
    {
     "data": {
      "text/html": [
       "<div>\n",
       "<style scoped>\n",
       "    .dataframe tbody tr th:only-of-type {\n",
       "        vertical-align: middle;\n",
       "    }\n",
       "\n",
       "    .dataframe tbody tr th {\n",
       "        vertical-align: top;\n",
       "    }\n",
       "\n",
       "    .dataframe thead th {\n",
       "        text-align: right;\n",
       "    }\n",
       "</style>\n",
       "<table border=\"1\" class=\"dataframe\">\n",
       "  <thead>\n",
       "    <tr style=\"text-align: right;\">\n",
       "      <th></th>\n",
       "      <th>users_id</th>\n",
       "      <th>banned</th>\n",
       "      <th>role</th>\n",
       "    </tr>\n",
       "  </thead>\n",
       "  <tbody>\n",
       "    <tr>\n",
       "      <th>0</th>\n",
       "      <td>1</td>\n",
       "      <td>No</td>\n",
       "      <td>client</td>\n",
       "    </tr>\n",
       "    <tr>\n",
       "      <th>1</th>\n",
       "      <td>10</td>\n",
       "      <td>Yes</td>\n",
       "      <td>driver</td>\n",
       "    </tr>\n",
       "  </tbody>\n",
       "</table>\n",
       "</div>"
      ],
      "text/plain": [
       "   users_id banned    role\n",
       "0         1     No  client\n",
       "1        10    Yes  driver"
      ]
     },
     "execution_count": 142,
     "metadata": {},
     "output_type": "execute_result"
    }
   ],
   "source": [
    "# users=pd.read_csv('./test_data/p262_users.csv',delimiter='|')\n",
    "# users=pd.read_csv('./test_data/p262_users_v2.csv',delimiter='|')\n",
    "users=pd.read_csv('./test_data/p262_users_v3.csv',delimiter='|')\n",
    "users"
   ]
  },
  {
   "cell_type": "code",
   "execution_count": 143,
   "metadata": {},
   "outputs": [
    {
     "data": {
      "text/plain": [
       "users_id     int64\n",
       "banned      object\n",
       "role        object\n",
       "dtype: object"
      ]
     },
     "execution_count": 143,
     "metadata": {},
     "output_type": "execute_result"
    }
   ],
   "source": [
    "users.dtypes"
   ]
  },
  {
   "cell_type": "code",
   "execution_count": 144,
   "metadata": {},
   "outputs": [
    {
     "data": {
      "text/plain": [
       "Index(['users_id', 'banned', 'role'], dtype='object')"
      ]
     },
     "execution_count": 144,
     "metadata": {},
     "output_type": "execute_result"
    }
   ],
   "source": [
    "users.columns"
   ]
  },
  {
   "cell_type": "markdown",
   "metadata": {},
   "source": [
    "### Solving problem"
   ]
  },
  {
   "cell_type": "code",
   "execution_count": 145,
   "metadata": {},
   "outputs": [
    {
     "data": {
      "text/html": [
       "<div>\n",
       "<style scoped>\n",
       "    .dataframe tbody tr th:only-of-type {\n",
       "        vertical-align: middle;\n",
       "    }\n",
       "\n",
       "    .dataframe tbody tr th {\n",
       "        vertical-align: top;\n",
       "    }\n",
       "\n",
       "    .dataframe thead th {\n",
       "        text-align: right;\n",
       "    }\n",
       "</style>\n",
       "<table border=\"1\" class=\"dataframe\">\n",
       "  <thead>\n",
       "    <tr style=\"text-align: right;\">\n",
       "      <th></th>\n",
       "      <th>id</th>\n",
       "      <th>client_id</th>\n",
       "      <th>driver_id</th>\n",
       "      <th>city_id</th>\n",
       "      <th>status</th>\n",
       "      <th>request_at</th>\n",
       "      <th>users_id_x</th>\n",
       "      <th>banned_x</th>\n",
       "      <th>role_x</th>\n",
       "      <th>users_id_y</th>\n",
       "      <th>banned_y</th>\n",
       "      <th>role_y</th>\n",
       "    </tr>\n",
       "  </thead>\n",
       "  <tbody>\n",
       "    <tr>\n",
       "      <th>0</th>\n",
       "      <td>1111</td>\n",
       "      <td>1</td>\n",
       "      <td>10</td>\n",
       "      <td>1</td>\n",
       "      <td>completed</td>\n",
       "      <td>2013-10-01</td>\n",
       "      <td>1</td>\n",
       "      <td>No</td>\n",
       "      <td>client</td>\n",
       "      <td>10</td>\n",
       "      <td>Yes</td>\n",
       "      <td>driver</td>\n",
       "    </tr>\n",
       "  </tbody>\n",
       "</table>\n",
       "</div>"
      ],
      "text/plain": [
       "     id  client_id  driver_id  city_id     status  request_at  users_id_x  \\\n",
       "0  1111          1         10        1  completed  2013-10-01           1   \n",
       "\n",
       "  banned_x  role_x  users_id_y banned_y  role_y  \n",
       "0       No  client          10      Yes  driver  "
      ]
     },
     "execution_count": 145,
     "metadata": {},
     "output_type": "execute_result"
    }
   ],
   "source": [
    "#merging everyting\n",
    "trips=trips.merge(users,how='left',left_on='client_id',right_on='users_id').merge(users,how='left',left_on='driver_id',right_on='users_id')\n",
    "trips"
   ]
  },
  {
   "cell_type": "code",
   "execution_count": 146,
   "metadata": {},
   "outputs": [
    {
     "data": {
      "text/html": [
       "<div>\n",
       "<style scoped>\n",
       "    .dataframe tbody tr th:only-of-type {\n",
       "        vertical-align: middle;\n",
       "    }\n",
       "\n",
       "    .dataframe tbody tr th {\n",
       "        vertical-align: top;\n",
       "    }\n",
       "\n",
       "    .dataframe thead th {\n",
       "        text-align: right;\n",
       "    }\n",
       "</style>\n",
       "<table border=\"1\" class=\"dataframe\">\n",
       "  <thead>\n",
       "    <tr style=\"text-align: right;\">\n",
       "      <th></th>\n",
       "      <th>id</th>\n",
       "      <th>client_id</th>\n",
       "      <th>driver_id</th>\n",
       "      <th>city_id</th>\n",
       "      <th>status</th>\n",
       "      <th>request_at</th>\n",
       "      <th>users_id_x</th>\n",
       "      <th>banned_x</th>\n",
       "      <th>role_x</th>\n",
       "      <th>users_id_y</th>\n",
       "      <th>banned_y</th>\n",
       "      <th>role_y</th>\n",
       "      <th>request_at_v2</th>\n",
       "    </tr>\n",
       "  </thead>\n",
       "  <tbody>\n",
       "    <tr>\n",
       "      <th>0</th>\n",
       "      <td>1111</td>\n",
       "      <td>1</td>\n",
       "      <td>10</td>\n",
       "      <td>1</td>\n",
       "      <td>completed</td>\n",
       "      <td>2013-10-01</td>\n",
       "      <td>1</td>\n",
       "      <td>No</td>\n",
       "      <td>client</td>\n",
       "      <td>10</td>\n",
       "      <td>Yes</td>\n",
       "      <td>driver</td>\n",
       "      <td>2013-10-01</td>\n",
       "    </tr>\n",
       "  </tbody>\n",
       "</table>\n",
       "</div>"
      ],
      "text/plain": [
       "     id  client_id  driver_id  city_id     status  request_at  users_id_x  \\\n",
       "0  1111          1         10        1  completed  2013-10-01           1   \n",
       "\n",
       "  banned_x  role_x  users_id_y banned_y  role_y request_at_v2  \n",
       "0       No  client          10      Yes  driver    2013-10-01  "
      ]
     },
     "execution_count": 146,
     "metadata": {},
     "output_type": "execute_result"
    }
   ],
   "source": [
    "#converting string to date\n",
    "trips['request_at_v2']=pd.to_datetime(trips.request_at).dt.date  \n",
    "trips"
   ]
  },
  {
   "cell_type": "code",
   "execution_count": 147,
   "metadata": {},
   "outputs": [
    {
     "data": {
      "text/html": [
       "<div>\n",
       "<style scoped>\n",
       "    .dataframe tbody tr th:only-of-type {\n",
       "        vertical-align: middle;\n",
       "    }\n",
       "\n",
       "    .dataframe tbody tr th {\n",
       "        vertical-align: top;\n",
       "    }\n",
       "\n",
       "    .dataframe thead th {\n",
       "        text-align: right;\n",
       "    }\n",
       "</style>\n",
       "<table border=\"1\" class=\"dataframe\">\n",
       "  <thead>\n",
       "    <tr style=\"text-align: right;\">\n",
       "      <th></th>\n",
       "      <th>id</th>\n",
       "      <th>client_id</th>\n",
       "      <th>driver_id</th>\n",
       "      <th>city_id</th>\n",
       "      <th>status</th>\n",
       "      <th>request_at</th>\n",
       "      <th>users_id_x</th>\n",
       "      <th>banned_x</th>\n",
       "      <th>role_x</th>\n",
       "      <th>users_id_y</th>\n",
       "      <th>banned_y</th>\n",
       "      <th>role_y</th>\n",
       "      <th>request_at_v2</th>\n",
       "    </tr>\n",
       "  </thead>\n",
       "  <tbody>\n",
       "    <tr>\n",
       "      <th>0</th>\n",
       "      <td>1111</td>\n",
       "      <td>1</td>\n",
       "      <td>10</td>\n",
       "      <td>1</td>\n",
       "      <td>completed</td>\n",
       "      <td>2013-10-01</td>\n",
       "      <td>1</td>\n",
       "      <td>No</td>\n",
       "      <td>client</td>\n",
       "      <td>10</td>\n",
       "      <td>Yes</td>\n",
       "      <td>driver</td>\n",
       "      <td>2013-10-01</td>\n",
       "    </tr>\n",
       "  </tbody>\n",
       "</table>\n",
       "</div>"
      ],
      "text/plain": [
       "     id  client_id  driver_id  city_id     status  request_at  users_id_x  \\\n",
       "0  1111          1         10        1  completed  2013-10-01           1   \n",
       "\n",
       "  banned_x  role_x  users_id_y banned_y  role_y request_at_v2  \n",
       "0       No  client          10      Yes  driver    2013-10-01  "
      ]
     },
     "execution_count": 147,
     "metadata": {},
     "output_type": "execute_result"
    }
   ],
   "source": [
    "#getting filtered dates\n",
    "import datetime\n",
    "start_date = datetime.datetime(2013, 10, 1).date()\n",
    "end_date = datetime.datetime(2013, 10, 3).date()\n",
    "\n",
    "trips=trips[(trips.request_at_v2>=start_date) & (trips.request_at_v2<=end_date)]\n",
    "trips"
   ]
  },
  {
   "cell_type": "code",
   "execution_count": 152,
   "metadata": {},
   "outputs": [
    {
     "data": {
      "text/html": [
       "<div>\n",
       "<style scoped>\n",
       "    .dataframe tbody tr th:only-of-type {\n",
       "        vertical-align: middle;\n",
       "    }\n",
       "\n",
       "    .dataframe tbody tr th {\n",
       "        vertical-align: top;\n",
       "    }\n",
       "\n",
       "    .dataframe thead th {\n",
       "        text-align: right;\n",
       "    }\n",
       "</style>\n",
       "<table border=\"1\" class=\"dataframe\">\n",
       "  <thead>\n",
       "    <tr style=\"text-align: right;\">\n",
       "      <th></th>\n",
       "      <th>id</th>\n",
       "      <th>client_id</th>\n",
       "      <th>driver_id</th>\n",
       "      <th>city_id</th>\n",
       "      <th>status</th>\n",
       "      <th>request_at</th>\n",
       "      <th>users_id_x</th>\n",
       "      <th>banned_x</th>\n",
       "      <th>role_x</th>\n",
       "      <th>users_id_y</th>\n",
       "      <th>banned_y</th>\n",
       "      <th>role_y</th>\n",
       "      <th>request_at_v2</th>\n",
       "    </tr>\n",
       "  </thead>\n",
       "  <tbody>\n",
       "  </tbody>\n",
       "</table>\n",
       "</div>"
      ],
      "text/plain": [
       "Empty DataFrame\n",
       "Columns: [id, client_id, driver_id, city_id, status, request_at, users_id_x, banned_x, role_x, users_id_y, banned_y, role_y, request_at_v2]\n",
       "Index: []"
      ]
     },
     "execution_count": 152,
     "metadata": {},
     "output_type": "execute_result"
    }
   ],
   "source": [
    "#excluding trips with banned users\n",
    "trips=trips[(trips.banned_x=='No') & (trips.banned_y=='No')]\n",
    "trips"
   ]
  },
  {
   "cell_type": "code",
   "execution_count": 153,
   "metadata": {},
   "outputs": [
    {
     "data": {
      "text/html": [
       "<div>\n",
       "<style scoped>\n",
       "    .dataframe tbody tr th:only-of-type {\n",
       "        vertical-align: middle;\n",
       "    }\n",
       "\n",
       "    .dataframe tbody tr th {\n",
       "        vertical-align: top;\n",
       "    }\n",
       "\n",
       "    .dataframe thead th {\n",
       "        text-align: right;\n",
       "    }\n",
       "</style>\n",
       "<table border=\"1\" class=\"dataframe\">\n",
       "  <thead>\n",
       "    <tr style=\"text-align: right;\">\n",
       "      <th></th>\n",
       "      <th>request_at</th>\n",
       "      <th>total_request</th>\n",
       "    </tr>\n",
       "  </thead>\n",
       "  <tbody>\n",
       "  </tbody>\n",
       "</table>\n",
       "</div>"
      ],
      "text/plain": [
       "Empty DataFrame\n",
       "Columns: [request_at, total_request]\n",
       "Index: []"
      ]
     },
     "execution_count": 153,
     "metadata": {},
     "output_type": "execute_result"
    }
   ],
   "source": [
    "#getting totla requested trips\n",
    "total_requested_trips=trips.request_at.value_counts().rename('total_request').reset_index()\n",
    "total_requested_trips"
   ]
  },
  {
   "cell_type": "code",
   "execution_count": 154,
   "metadata": {},
   "outputs": [
    {
     "data": {
      "text/html": [
       "<div>\n",
       "<style scoped>\n",
       "    .dataframe tbody tr th:only-of-type {\n",
       "        vertical-align: middle;\n",
       "    }\n",
       "\n",
       "    .dataframe tbody tr th {\n",
       "        vertical-align: top;\n",
       "    }\n",
       "\n",
       "    .dataframe thead th {\n",
       "        text-align: right;\n",
       "    }\n",
       "</style>\n",
       "<table border=\"1\" class=\"dataframe\">\n",
       "  <thead>\n",
       "    <tr style=\"text-align: right;\">\n",
       "      <th></th>\n",
       "      <th>request_at</th>\n",
       "      <th>total_canceled</th>\n",
       "    </tr>\n",
       "  </thead>\n",
       "  <tbody>\n",
       "  </tbody>\n",
       "</table>\n",
       "</div>"
      ],
      "text/plain": [
       "Empty DataFrame\n",
       "Columns: [request_at, total_canceled]\n",
       "Index: []"
      ]
     },
     "execution_count": 154,
     "metadata": {},
     "output_type": "execute_result"
    }
   ],
   "source": [
    "#getting canceled trips\n",
    "canceled_trips=trips[(trips.status=='cancelled_by_client') | (trips.status=='cancelled_by_driver')].request_at.value_counts().rename('total_canceled').reset_index()\n",
    "canceled_trips"
   ]
  },
  {
   "cell_type": "code",
   "execution_count": 155,
   "metadata": {},
   "outputs": [
    {
     "data": {
      "text/html": [
       "<div>\n",
       "<style scoped>\n",
       "    .dataframe tbody tr th:only-of-type {\n",
       "        vertical-align: middle;\n",
       "    }\n",
       "\n",
       "    .dataframe tbody tr th {\n",
       "        vertical-align: top;\n",
       "    }\n",
       "\n",
       "    .dataframe thead th {\n",
       "        text-align: right;\n",
       "    }\n",
       "</style>\n",
       "<table border=\"1\" class=\"dataframe\">\n",
       "  <thead>\n",
       "    <tr style=\"text-align: right;\">\n",
       "      <th></th>\n",
       "      <th>Day</th>\n",
       "      <th>total_request</th>\n",
       "      <th>total_canceled</th>\n",
       "      <th>Cancellation Rate</th>\n",
       "    </tr>\n",
       "  </thead>\n",
       "  <tbody>\n",
       "  </tbody>\n",
       "</table>\n",
       "</div>"
      ],
      "text/plain": [
       "Empty DataFrame\n",
       "Columns: [Day, total_request, total_canceled, Cancellation Rate]\n",
       "Index: []"
      ]
     },
     "execution_count": 155,
     "metadata": {},
     "output_type": "execute_result"
    }
   ],
   "source": [
    "#getting calcelation rate\n",
    "df_merged=total_requested_trips.merge(canceled_trips,how='left',on='request_at').rename(columns={'request_at':'Day'}).fillna(0)\n",
    "df_merged['Cancellation Rate']=round(df_merged.total_canceled/df_merged.total_request,2)\n",
    "df_merged"
   ]
  },
  {
   "cell_type": "code",
   "execution_count": 156,
   "metadata": {},
   "outputs": [
    {
     "data": {
      "text/html": [
       "<div>\n",
       "<style scoped>\n",
       "    .dataframe tbody tr th:only-of-type {\n",
       "        vertical-align: middle;\n",
       "    }\n",
       "\n",
       "    .dataframe tbody tr th {\n",
       "        vertical-align: top;\n",
       "    }\n",
       "\n",
       "    .dataframe thead th {\n",
       "        text-align: right;\n",
       "    }\n",
       "</style>\n",
       "<table border=\"1\" class=\"dataframe\">\n",
       "  <thead>\n",
       "    <tr style=\"text-align: right;\">\n",
       "      <th></th>\n",
       "      <th>Day</th>\n",
       "      <th>Cancellation Rate</th>\n",
       "    </tr>\n",
       "  </thead>\n",
       "  <tbody>\n",
       "  </tbody>\n",
       "</table>\n",
       "</div>"
      ],
      "text/plain": [
       "Empty DataFrame\n",
       "Columns: [Day, Cancellation Rate]\n",
       "Index: []"
      ]
     },
     "execution_count": 156,
     "metadata": {},
     "output_type": "execute_result"
    }
   ],
   "source": [
    "df_merged[['Day','Cancellation Rate']]"
   ]
  },
  {
   "cell_type": "markdown",
   "metadata": {},
   "source": [
    "- Hints\n",
    "  - Need to be cautious about date range\n",
    "  - Need to exclude complete,cancel for banned users"
   ]
  },
  {
   "cell_type": "markdown",
   "metadata": {},
   "source": [
    "### Preparing Submission function"
   ]
  },
  {
   "cell_type": "code",
   "execution_count": 161,
   "metadata": {},
   "outputs": [],
   "source": [
    "import pandas as pd\n",
    "import datetime\n",
    "\n",
    "def trips_and_users(trips: pd.DataFrame, users: pd.DataFrame) -> pd.DataFrame:\n",
    "    #merging everyting\n",
    "    trips=trips.merge(users,how='left',left_on='client_id',right_on='users_id').merge(users,how='left',left_on='driver_id',right_on='users_id')\n",
    "    \n",
    "    #excluding trips with banned users\n",
    "    trips=trips[(trips.banned_x=='No') & (trips.banned_y=='No')]\n",
    "\n",
    "    #converting string to date\n",
    "    trips['request_at_v2']=pd.to_datetime(trips.request_at).dt.date \n",
    "\n",
    "    #getting filtered dates\n",
    "    start_date = datetime.datetime(2013, 10, 1).date()\n",
    "    end_date = datetime.datetime(2013, 10, 3).date()\n",
    "    trips=trips[(trips.request_at_v2>=start_date) & (trips.request_at_v2<=end_date)]\n",
    "    \n",
    "    #getting cancelation rate\n",
    "    total_trips=trips.request_at.value_counts().rename('total_request').reset_index()\n",
    "    canceled_trips=trips[(trips.status=='cancelled_by_client') | (trips.status=='cancelled_by_driver')].request_at.value_counts().rename('total_canceled').reset_index()\n",
    "    df_merged=total_trips.merge(canceled_trips,how='left',on='request_at').rename(columns={'request_at':'Day'}).fillna(0)\n",
    "    df_merged['Cancellation Rate']=round(df_merged.total_canceled/df_merged.total_request,2)\n",
    "\n",
    "    return df_merged[['Day','Cancellation Rate']]\n",
    "    \n"
   ]
  },
  {
   "cell_type": "markdown",
   "metadata": {},
   "source": [
    "### Testing the submission function"
   ]
  },
  {
   "cell_type": "code",
   "execution_count": 169,
   "metadata": {},
   "outputs": [
    {
     "data": {
      "text/html": [
       "<div>\n",
       "<style scoped>\n",
       "    .dataframe tbody tr th:only-of-type {\n",
       "        vertical-align: middle;\n",
       "    }\n",
       "\n",
       "    .dataframe tbody tr th {\n",
       "        vertical-align: top;\n",
       "    }\n",
       "\n",
       "    .dataframe thead th {\n",
       "        text-align: right;\n",
       "    }\n",
       "</style>\n",
       "<table border=\"1\" class=\"dataframe\">\n",
       "  <thead>\n",
       "    <tr style=\"text-align: right;\">\n",
       "      <th></th>\n",
       "      <th>id</th>\n",
       "      <th>client_id</th>\n",
       "      <th>driver_id</th>\n",
       "      <th>city_id</th>\n",
       "      <th>status</th>\n",
       "      <th>request_at</th>\n",
       "    </tr>\n",
       "  </thead>\n",
       "  <tbody>\n",
       "    <tr>\n",
       "      <th>0</th>\n",
       "      <td>1111</td>\n",
       "      <td>1</td>\n",
       "      <td>10</td>\n",
       "      <td>1</td>\n",
       "      <td>completed</td>\n",
       "      <td>2013-10-01</td>\n",
       "    </tr>\n",
       "  </tbody>\n",
       "</table>\n",
       "</div>"
      ],
      "text/plain": [
       "     id  client_id  driver_id  city_id     status  request_at\n",
       "0  1111          1         10        1  completed  2013-10-01"
      ]
     },
     "execution_count": 169,
     "metadata": {},
     "output_type": "execute_result"
    }
   ],
   "source": [
    "# trips=pd.read_csv('./test_data/p262_trips.csv',delimiter='|')\n",
    "# trips=pd.read_csv('./test_data/p262_trips_v2.csv',delimiter='|')\n",
    "trips=pd.read_csv('./test_data/p262_trips_v3.csv',delimiter='|')\n",
    "trips"
   ]
  },
  {
   "cell_type": "code",
   "execution_count": 170,
   "metadata": {},
   "outputs": [
    {
     "data": {
      "text/html": [
       "<div>\n",
       "<style scoped>\n",
       "    .dataframe tbody tr th:only-of-type {\n",
       "        vertical-align: middle;\n",
       "    }\n",
       "\n",
       "    .dataframe tbody tr th {\n",
       "        vertical-align: top;\n",
       "    }\n",
       "\n",
       "    .dataframe thead th {\n",
       "        text-align: right;\n",
       "    }\n",
       "</style>\n",
       "<table border=\"1\" class=\"dataframe\">\n",
       "  <thead>\n",
       "    <tr style=\"text-align: right;\">\n",
       "      <th></th>\n",
       "      <th>users_id</th>\n",
       "      <th>banned</th>\n",
       "      <th>role</th>\n",
       "    </tr>\n",
       "  </thead>\n",
       "  <tbody>\n",
       "    <tr>\n",
       "      <th>0</th>\n",
       "      <td>1</td>\n",
       "      <td>No</td>\n",
       "      <td>client</td>\n",
       "    </tr>\n",
       "    <tr>\n",
       "      <th>1</th>\n",
       "      <td>10</td>\n",
       "      <td>Yes</td>\n",
       "      <td>driver</td>\n",
       "    </tr>\n",
       "  </tbody>\n",
       "</table>\n",
       "</div>"
      ],
      "text/plain": [
       "   users_id banned    role\n",
       "0         1     No  client\n",
       "1        10    Yes  driver"
      ]
     },
     "execution_count": 170,
     "metadata": {},
     "output_type": "execute_result"
    }
   ],
   "source": [
    "# users=pd.read_csv('./test_data/p262_users.csv',delimiter='|')\n",
    "# users=pd.read_csv('./test_data/p262_users_v2.csv',delimiter='|')\n",
    "users=pd.read_csv('./test_data/p262_users_v3.csv',delimiter='|')\n",
    "users"
   ]
  },
  {
   "cell_type": "code",
   "execution_count": 171,
   "metadata": {},
   "outputs": [
    {
     "data": {
      "text/html": [
       "<div>\n",
       "<style scoped>\n",
       "    .dataframe tbody tr th:only-of-type {\n",
       "        vertical-align: middle;\n",
       "    }\n",
       "\n",
       "    .dataframe tbody tr th {\n",
       "        vertical-align: top;\n",
       "    }\n",
       "\n",
       "    .dataframe thead th {\n",
       "        text-align: right;\n",
       "    }\n",
       "</style>\n",
       "<table border=\"1\" class=\"dataframe\">\n",
       "  <thead>\n",
       "    <tr style=\"text-align: right;\">\n",
       "      <th></th>\n",
       "      <th>Day</th>\n",
       "      <th>Cancellation Rate</th>\n",
       "    </tr>\n",
       "  </thead>\n",
       "  <tbody>\n",
       "  </tbody>\n",
       "</table>\n",
       "</div>"
      ],
      "text/plain": [
       "Empty DataFrame\n",
       "Columns: [Day, Cancellation Rate]\n",
       "Index: []"
      ]
     },
     "execution_count": 171,
     "metadata": {},
     "output_type": "execute_result"
    }
   ],
   "source": [
    "trips_and_users(trips=trips, users=users) "
   ]
  },
  {
   "cell_type": "code",
   "execution_count": null,
   "metadata": {},
   "outputs": [],
   "source": []
  },
  {
   "cell_type": "code",
   "execution_count": null,
   "metadata": {},
   "outputs": [],
   "source": []
  }
 ],
 "metadata": {
  "kernelspec": {
   "display_name": "env_problem_solving",
   "language": "python",
   "name": "python3"
  },
  "language_info": {
   "codemirror_mode": {
    "name": "ipython",
    "version": 3
   },
   "file_extension": ".py",
   "mimetype": "text/x-python",
   "name": "python",
   "nbconvert_exporter": "python",
   "pygments_lexer": "ipython3",
   "version": "3.9.20"
  }
 },
 "nbformat": 4,
 "nbformat_minor": 2
}
